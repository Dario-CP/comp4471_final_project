{
 "cells": [
  {
   "cell_type": "markdown",
   "source": [
    "We are dealing with ImageNet 2010"
   ],
   "metadata": {
    "collapsed": false,
    "pycharm": {
     "name": "#%% md\n"
    }
   }
  },
  {
   "cell_type": "markdown",
   "source": [
    "It is stored in dataset_path folder, which is divided into 3 folders: \"test\", \"train\" and \"val\". In \"train\" there are 1000 .tar compressed folders with images. We want to extract those folders."
   ],
   "metadata": {
    "collapsed": false,
    "pycharm": {
     "name": "#%% md\n"
    }
   }
  },
  {
   "cell_type": "code",
   "execution_count": 1,
   "outputs": [],
   "source": [
    "# import libraries\n",
    "import os\n",
    "import shutil\n",
    "import tensorflow as tf"
   ],
   "metadata": {
    "collapsed": false,
    "pycharm": {
     "name": "#%%\n"
    }
   }
  },
  {
   "cell_type": "code",
   "execution_count": 2,
   "outputs": [],
   "source": [
    "dataset_path = \"C:\\\\Users\\\\super\\\\Desktop\\\\python_projects\\\\assignments_comp_vision\\\\comp4471_final_project\\\\imagenet_2010\""
   ],
   "metadata": {
    "collapsed": false,
    "pycharm": {
     "name": "#%%\n"
    }
   }
  },
  {
   "cell_type": "code",
   "execution_count": 5,
   "outputs": [],
   "source": [
    "# extract all .tar folders\n",
    "for folder in os.listdir(dataset_path + \"\\\\train\"):\n",
    "    shutil.unpack_archive(dataset_path + \"\\\\train\\\\\" + folder, dataset_path + \"\\\\train\\\\\" + folder[:-4])\n",
    "    # remove .tar folder\n",
    "    os.remove(dataset_path + \"\\\\train\\\\\" + folder)"
   ],
   "metadata": {
    "collapsed": false,
    "pycharm": {
     "name": "#%%\n"
    }
   }
  },
  {
   "cell_type": "code",
   "execution_count": 17,
   "outputs": [],
   "source": [
    "# train.txt contains the paths to the training images\n",
    "# We will trip the absolute path and leave only the relative path\n",
    "# Example: C:\\Users\\super\\Desktop\\python_projects\\assignments_comp_vision\\comp4471_final_project\\imagenet_2010\\train\\n01484850\\n01484850_10016.JPEG -> n01484850\\n01484850_10016.JPEG\n",
    "\n",
    "# open train.txt\n",
    "with open(dataset_path + \"\\\\train.txt\", \"r\") as f:\n",
    "    train_txt = f.readlines()\n",
    "    # remove the absolute path\n",
    "    train_txt = [line.replace(dataset_path + \"\\\\train\\\\\", \"\") for line in train_txt]\n",
    "    # Write the new train.txt\n",
    "    with open(dataset_path + \"\\\\train.txt\", \"w\") as f:\n",
    "        f.writelines(train_txt)"
   ],
   "metadata": {
    "collapsed": false,
    "pycharm": {
     "name": "#%%\n"
    }
   }
  },
  {
   "cell_type": "code",
   "execution_count": 5,
   "outputs": [
    {
     "name": "stdout",
     "output_type": "stream",
     "text": [
      "Removed: n02487347\\n02487347_1956.JPEG\n",
      "\n"
     ]
    },
    {
     "name": "stderr",
     "output_type": "stream",
     "text": [
      "C:\\Users\\super\\Desktop\\python_projects\\assignments_comp_vision\\comp4471_final_project\\venv_final_project_cv\\lib\\site-packages\\PIL\\TiffImagePlugin.py:850: UserWarning: Corrupt EXIF data.  Expecting to read 2 bytes but only got 0. \n",
      "  warnings.warn(str(msg))\n",
      "C:\\Users\\super\\Desktop\\python_projects\\assignments_comp_vision\\comp4471_final_project\\venv_final_project_cv\\lib\\site-packages\\PIL\\TiffImagePlugin.py:850: UserWarning: Truncated File Read\n",
      "  warnings.warn(str(msg))\n",
      "C:\\Users\\super\\Desktop\\python_projects\\assignments_comp_vision\\comp4471_final_project\\venv_final_project_cv\\lib\\site-packages\\PIL\\TiffImagePlugin.py:850: UserWarning: Corrupt EXIF data.  Expecting to read 4 bytes but only got 0. \n",
      "  warnings.warn(str(msg))\n"
     ]
    },
    {
     "ename": "FileNotFoundError",
     "evalue": "[WinError 2] El sistema no puede encontrar el archivo especificado: 'C:\\\\Users\\\\super\\\\Desktop\\\\python_projects\\\\assignments_comp_vision\\\\comp4471_final_project\\\\imagenet_2010\\\\train\\\\n13136316\\\\n13136316_9993.JPE'",
     "output_type": "error",
     "traceback": [
      "\u001B[1;31m---------------------------------------------------------------------------\u001B[0m",
      "\u001B[1;31mFileNotFoundError\u001B[0m                         Traceback (most recent call last)",
      "Cell \u001B[1;32mIn [5], line 11\u001B[0m\n\u001B[0;32m     10\u001B[0m \u001B[38;5;28;01mtry\u001B[39;00m:\n\u001B[1;32m---> 11\u001B[0m     \u001B[43mtf\u001B[49m\u001B[38;5;241;43m.\u001B[39;49m\u001B[43mkeras\u001B[49m\u001B[38;5;241;43m.\u001B[39;49m\u001B[43mutils\u001B[49m\u001B[38;5;241;43m.\u001B[39;49m\u001B[43mload_img\u001B[49m\u001B[43m(\u001B[49m\u001B[43mdataset_path\u001B[49m\u001B[43m \u001B[49m\u001B[38;5;241;43m+\u001B[39;49m\u001B[43m \u001B[49m\u001B[38;5;124;43m\"\u001B[39;49m\u001B[38;5;130;43;01m\\\\\u001B[39;49;00m\u001B[38;5;124;43mtrain\u001B[39;49m\u001B[38;5;130;43;01m\\\\\u001B[39;49;00m\u001B[38;5;124;43m\"\u001B[39;49m\u001B[43m \u001B[49m\u001B[38;5;241;43m+\u001B[39;49m\u001B[43m \u001B[49m\u001B[43mline\u001B[49m\u001B[43m[\u001B[49m\u001B[43m:\u001B[49m\u001B[38;5;241;43m-\u001B[39;49m\u001B[38;5;241;43m1\u001B[39;49m\u001B[43m]\u001B[49m\u001B[43m,\u001B[49m\u001B[43m \u001B[49m\u001B[43mtarget_size\u001B[49m\u001B[38;5;241;43m=\u001B[39;49m\u001B[43m(\u001B[49m\u001B[38;5;241;43m224\u001B[39;49m\u001B[43m,\u001B[49m\u001B[43m \u001B[49m\u001B[38;5;241;43m224\u001B[39;49m\u001B[43m)\u001B[49m\u001B[43m,\u001B[49m\u001B[43m \u001B[49m\u001B[43mcolor_mode\u001B[49m\u001B[38;5;241;43m=\u001B[39;49m\u001B[38;5;124;43m'\u001B[39;49m\u001B[38;5;124;43mrgb\u001B[39;49m\u001B[38;5;124;43m'\u001B[39;49m\u001B[43m,\u001B[49m\u001B[43m \u001B[49m\u001B[43mkeep_aspect_ratio\u001B[49m\u001B[38;5;241;43m=\u001B[39;49m\u001B[38;5;28;43;01mTrue\u001B[39;49;00m\u001B[43m)\u001B[49m\n\u001B[0;32m     12\u001B[0m \u001B[38;5;28;01mexcept\u001B[39;00m:\n\u001B[0;32m     13\u001B[0m     \u001B[38;5;66;03m# if an error is raised, remove the line from the train.txt file\u001B[39;00m\n",
      "File \u001B[1;32m~\\Desktop\\python_projects\\assignments_comp_vision\\comp4471_final_project\\venv_final_project_cv\\lib\\site-packages\\keras\\utils\\image_utils.py:422\u001B[0m, in \u001B[0;36mload_img\u001B[1;34m(path, grayscale, color_mode, target_size, interpolation, keep_aspect_ratio)\u001B[0m\n\u001B[0;32m    421\u001B[0m     path \u001B[38;5;241m=\u001B[39m \u001B[38;5;28mstr\u001B[39m(path\u001B[38;5;241m.\u001B[39mresolve())\n\u001B[1;32m--> 422\u001B[0m \u001B[38;5;28;01mwith\u001B[39;00m \u001B[38;5;28;43mopen\u001B[39;49m\u001B[43m(\u001B[49m\u001B[43mpath\u001B[49m\u001B[43m,\u001B[49m\u001B[43m \u001B[49m\u001B[38;5;124;43m\"\u001B[39;49m\u001B[38;5;124;43mrb\u001B[39;49m\u001B[38;5;124;43m\"\u001B[39;49m\u001B[43m)\u001B[49m \u001B[38;5;28;01mas\u001B[39;00m f:\n\u001B[0;32m    423\u001B[0m     img \u001B[38;5;241m=\u001B[39m pil_image\u001B[38;5;241m.\u001B[39mopen(io\u001B[38;5;241m.\u001B[39mBytesIO(f\u001B[38;5;241m.\u001B[39mread()))\n",
      "\u001B[1;31mFileNotFoundError\u001B[0m: [Errno 2] No such file or directory: 'C:\\\\Users\\\\super\\\\Desktop\\\\python_projects\\\\assignments_comp_vision\\\\comp4471_final_project\\\\imagenet_2010\\\\train\\\\n13136316\\\\n13136316_9993.JPE'",
      "\nDuring handling of the above exception, another exception occurred:\n",
      "\u001B[1;31mFileNotFoundError\u001B[0m                         Traceback (most recent call last)",
      "Cell \u001B[1;32mIn [5], line 16\u001B[0m\n\u001B[0;32m     14\u001B[0m         train_txt\u001B[38;5;241m.\u001B[39mremove(line)\n\u001B[0;32m     15\u001B[0m         \u001B[38;5;66;03m# remove the image from the dataset\u001B[39;00m\n\u001B[1;32m---> 16\u001B[0m         \u001B[43mos\u001B[49m\u001B[38;5;241;43m.\u001B[39;49m\u001B[43mremove\u001B[49m\u001B[43m(\u001B[49m\u001B[43mdataset_path\u001B[49m\u001B[43m \u001B[49m\u001B[38;5;241;43m+\u001B[39;49m\u001B[43m \u001B[49m\u001B[38;5;124;43m\"\u001B[39;49m\u001B[38;5;130;43;01m\\\\\u001B[39;49;00m\u001B[38;5;124;43mtrain\u001B[39;49m\u001B[38;5;130;43;01m\\\\\u001B[39;49;00m\u001B[38;5;124;43m\"\u001B[39;49m\u001B[43m \u001B[49m\u001B[38;5;241;43m+\u001B[39;49m\u001B[43m \u001B[49m\u001B[43mline\u001B[49m\u001B[43m[\u001B[49m\u001B[43m:\u001B[49m\u001B[38;5;241;43m-\u001B[39;49m\u001B[38;5;241;43m1\u001B[39;49m\u001B[43m]\u001B[49m\u001B[43m)\u001B[49m\n\u001B[0;32m     17\u001B[0m         \u001B[38;5;28mprint\u001B[39m(\u001B[38;5;124m\"\u001B[39m\u001B[38;5;124mRemoved: \u001B[39m\u001B[38;5;124m\"\u001B[39m \u001B[38;5;241m+\u001B[39m line)\n\u001B[0;32m     18\u001B[0m \u001B[38;5;66;03m# Write the new train.txt\u001B[39;00m\n",
      "\u001B[1;31mFileNotFoundError\u001B[0m: [WinError 2] El sistema no puede encontrar el archivo especificado: 'C:\\\\Users\\\\super\\\\Desktop\\\\python_projects\\\\assignments_comp_vision\\\\comp4471_final_project\\\\imagenet_2010\\\\train\\\\n13136316\\\\n13136316_9993.JPE'"
     ]
    }
   ],
   "source": [
    "# Go through all the images in the dataset and try to load them\n",
    "# with tf.keras.utils.load_img(file_path, target_size=self.image_size, color_mode='rgb', keep_aspect_ratio=True)\n",
    "# If an error is raised, the image is eliminated from the dataset\n",
    "\n",
    "# for the training set, we will use the train.txt file\n",
    "with open(dataset_path + \"\\\\train.txt\", \"r\") as f:\n",
    "    train_txt = f.readlines()\n",
    "    # Try to open line by line\n",
    "    for line in train_txt:\n",
    "        try:\n",
    "            tf.keras.utils.load_img(dataset_path + \"\\\\train\\\\\" + line[:-1], target_size=(224, 224), color_mode='rgb', keep_aspect_ratio=True)\n",
    "        except:\n",
    "            # if an error is raised, remove the line from the train.txt file\n",
    "            train_txt.remove(line)\n",
    "            # remove the image from the dataset\n",
    "            os.remove(dataset_path + \"\\\\train\\\\\" + line[:-1])\n",
    "            print(\"Removed: \" + line)\n",
    "    # Write the new train.txt\n",
    "    with open(dataset_path + \"\\\\train.txt\", \"w\") as f:\n",
    "        f.writelines(train_txt)"
   ],
   "metadata": {
    "collapsed": false,
    "pycharm": {
     "name": "#%%\n"
    }
   }
  },
  {
   "cell_type": "code",
   "execution_count": 8,
   "outputs": [],
   "source": [
    "# For the validation set, we will just go through all the images in the folder and try to load them\n",
    "for file in os.listdir(dataset_path + \"\\\\val\"):\n",
    "    try:\n",
    "        tf.keras.utils.load_img(dataset_path + \"\\\\val\\\\\" + file, target_size=(224, 224), color_mode='rgb', keep_aspect_ratio=True)\n",
    "    except:\n",
    "        # if an error is raised, remove the image from the dataset\n",
    "        os.remove(dataset_path + \"\\\\val\\\\\" + file)\n",
    "        print(\"Removed: \" + file)"
   ],
   "metadata": {
    "collapsed": false,
    "pycharm": {
     "name": "#%%# For the validation set, we will just # For the validation set, we will just go through all the images in the folder and try to load them\n"
    }
   }
  },
  {
   "cell_type": "code",
   "execution_count": 9,
   "outputs": [
    {
     "name": "stderr",
     "output_type": "stream",
     "text": [
      "C:\\Users\\super\\Desktop\\python_projects\\assignments_comp_vision\\comp4471_final_project\\venv_final_project_cv\\lib\\site-packages\\PIL\\TiffImagePlugin.py:850: UserWarning: Truncated File Read\n",
      "  warnings.warn(str(msg))\n"
     ]
    }
   ],
   "source": [
    "# For the test set, we will just go through all the images in the folder and try to load them\n",
    "for file in os.listdir(dataset_path + \"\\\\test\"):\n",
    "    try:\n",
    "        tf.keras.utils.load_img(dataset_path + \"\\\\test\\\\\" + file, target_size=(224, 224), color_mode='rgb', keep_aspect_ratio=True)\n",
    "    except:\n",
    "        # if an error is raised, remove the image from the dataset\n",
    "        os.remove(dataset_path + \"\\\\test\\\\\" + file)\n",
    "        print(\"Removed: \" + file)"
   ],
   "metadata": {
    "collapsed": false,
    "pycharm": {
     "name": "#%%# For the test set, we will just # For the test set, we will just go through all the images in the folder and try to load them\n"
    }
   }
  }
 ],
 "metadata": {
  "kernelspec": {
   "display_name": "Python 3",
   "language": "python",
   "name": "python3"
  },
  "language_info": {
   "codemirror_mode": {
    "name": "ipython",
    "version": 2
   },
   "file_extension": ".py",
   "mimetype": "text/x-python",
   "name": "python",
   "nbconvert_exporter": "python",
   "pygments_lexer": "ipython2",
   "version": "2.7.6"
  }
 },
 "nbformat": 4,
 "nbformat_minor": 0
}